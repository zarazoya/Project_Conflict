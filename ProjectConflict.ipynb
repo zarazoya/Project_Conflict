{
 "cells": [
  {
   "cell_type": "code",
   "execution_count": 2,
   "metadata": {},
   "outputs": [
    {
     "name": "stderr",
     "output_type": "stream",
     "text": [
      "c:\\users\\kk\\appdata\\local\\programs\\python\\python37\\lib\\importlib\\_bootstrap.py:219: RuntimeWarning: numpy.ufunc size changed, may indicate binary incompatibility. Expected 192 from C header, got 216 from PyObject\n",
      "  return f(*args, **kwds)\n",
      "c:\\users\\kk\\appdata\\local\\programs\\python\\python37\\lib\\importlib\\_bootstrap.py:219: RuntimeWarning: numpy.ufunc size changed, may indicate binary incompatibility. Expected 192 from C header, got 216 from PyObject\n",
      "  return f(*args, **kwds)\n"
     ]
    }
   ],
   "source": [
    "import numpy as np\n",
    "import pandas as pd\n",
    "import nltk "
   ]
  },
  {
   "cell_type": "code",
   "execution_count": 3,
   "metadata": {},
   "outputs": [],
   "source": [
    "small_data = pd.read_csv(\"bt.csv\",encoding = \"ISO-8859-1\")"
   ]
  },
  {
   "cell_type": "code",
   "execution_count": 4,
   "metadata": {},
   "outputs": [
    {
     "data": {
      "text/html": [
       "<div>\n",
       "<style scoped>\n",
       "    .dataframe tbody tr th:only-of-type {\n",
       "        vertical-align: middle;\n",
       "    }\n",
       "\n",
       "    .dataframe tbody tr th {\n",
       "        vertical-align: top;\n",
       "    }\n",
       "\n",
       "    .dataframe thead th {\n",
       "        text-align: right;\n",
       "    }\n",
       "</style>\n",
       "<table border=\"1\" class=\"dataframe\">\n",
       "  <thead>\n",
       "    <tr style=\"text-align: right;\">\n",
       "      <th></th>\n",
       "      <th>X_input</th>\n",
       "      <th>X_input.1</th>\n",
       "      <th>y_output</th>\n",
       "    </tr>\n",
       "  </thead>\n",
       "  <tbody>\n",
       "    <tr>\n",
       "      <th>0</th>\n",
       "      <td>Do you think conflicts really exist in the tea...</td>\n",
       "      <td>YES</td>\n",
       "      <td>In 100% surveys big teams and small teams deal...</td>\n",
       "    </tr>\n",
       "    <tr>\n",
       "      <th>1</th>\n",
       "      <td>What impact do you find when you dont have go...</td>\n",
       "      <td>Teamwork , Performance</td>\n",
       "      <td>60% survey results have shown that teamwork wi...</td>\n",
       "    </tr>\n",
       "    <tr>\n",
       "      <th>2</th>\n",
       "      <td>What if you find out some sort of favourism in...</td>\n",
       "      <td>Confront</td>\n",
       "      <td>100% survey result have shown that people used...</td>\n",
       "    </tr>\n",
       "    <tr>\n",
       "      <th>3</th>\n",
       "      <td>Do you think that equally learning facilities ...</td>\n",
       "      <td>YES</td>\n",
       "      <td>100% survey results of big teams and small tea...</td>\n",
       "    </tr>\n",
       "    <tr>\n",
       "      <th>4</th>\n",
       "      <td>Do you find yourself as a silent member who ne...</td>\n",
       "      <td>Yes , No , Very Rarely</td>\n",
       "      <td>40% members thought they are silent member whe...</td>\n",
       "    </tr>\n",
       "    <tr>\n",
       "      <th>5</th>\n",
       "      <td>Does communication helps a team to save them f...</td>\n",
       "      <td>Yes , Always , No , Yes But rarely</td>\n",
       "      <td>80% survey results have shown that communicati...</td>\n",
       "    </tr>\n",
       "    <tr>\n",
       "      <th>6</th>\n",
       "      <td>Does your manager/team member do respect your ...</td>\n",
       "      <td>Yes usually no</td>\n",
       "      <td>60% survey results have shown that manager res...</td>\n",
       "    </tr>\n",
       "    <tr>\n",
       "      <th>7</th>\n",
       "      <td>Do you find any pressure from your team lead...</td>\n",
       "      <td>No not really , Yes it does</td>\n",
       "      <td>30% survey results have shown that no pressure...</td>\n",
       "    </tr>\n",
       "    <tr>\n",
       "      <th>8</th>\n",
       "      <td>Does team size affect the team performance?</td>\n",
       "      <td>No , Yes sometimes</td>\n",
       "      <td>50% survey results have shown that team size a...</td>\n",
       "    </tr>\n",
       "    <tr>\n",
       "      <th>9</th>\n",
       "      <td>What if you find yourself in an argument, you ...</td>\n",
       "      <td>Explain my point , Leave my point</td>\n",
       "      <td>80% survey results have shown that team prefer...</td>\n",
       "    </tr>\n",
       "    <tr>\n",
       "      <th>10</th>\n",
       "      <td>Do you prefer to compromise when solving probl...</td>\n",
       "      <td>No compromise , Yes sometime</td>\n",
       "      <td>90% survey results have shown that teams prefe...</td>\n",
       "    </tr>\n",
       "    <tr>\n",
       "      <th>11</th>\n",
       "      <td>If there may not get what you want, but do you...</td>\n",
       "      <td>Yes , No</td>\n",
       "      <td>60% survey results have shown the disagreement...</td>\n",
       "    </tr>\n",
       "    <tr>\n",
       "      <th>12</th>\n",
       "      <td>when you are the person with the greater autho...</td>\n",
       "      <td>Confront , Sometimes avoid</td>\n",
       "      <td>80% survey results have shown that individuals...</td>\n",
       "    </tr>\n",
       "    <tr>\n",
       "      <th>13</th>\n",
       "      <td>When you find yourself disagreeing with other ...</td>\n",
       "      <td>Stand on my point , will let go</td>\n",
       "      <td>80% survey have shown that individual stands o...</td>\n",
       "    </tr>\n",
       "    <tr>\n",
       "      <th>14</th>\n",
       "      <td>Do you find out the straight solution of any a...</td>\n",
       "      <td>Straight solution , Figure out reasons</td>\n",
       "      <td>50% survey results have shown that individuals...</td>\n",
       "    </tr>\n",
       "    <tr>\n",
       "      <th>15</th>\n",
       "      <td>What if working with a senior member in the te...</td>\n",
       "      <td>Openly express , Sometimes I do respect</td>\n",
       "      <td>60% survey results have shown that individuals...</td>\n",
       "    </tr>\n",
       "  </tbody>\n",
       "</table>\n",
       "</div>"
      ],
      "text/plain": [
       "                                              X_input  \\\n",
       "0   Do you think conflicts really exist in the tea...   \n",
       "1   What impact do you find when you dont have go...   \n",
       "2   What if you find out some sort of favourism in...   \n",
       "3   Do you think that equally learning facilities ...   \n",
       "4   Do you find yourself as a silent member who ne...   \n",
       "5   Does communication helps a team to save them f...   \n",
       "6   Does your manager/team member do respect your ...   \n",
       "7   Do you find any pressure from your team lead...   \n",
       "8       Does team size affect the team performance?   \n",
       "9   What if you find yourself in an argument, you ...   \n",
       "10  Do you prefer to compromise when solving probl...   \n",
       "11  If there may not get what you want, but do you...   \n",
       "12  when you are the person with the greater autho...   \n",
       "13  When you find yourself disagreeing with other ...   \n",
       "14  Do you find out the straight solution of any a...   \n",
       "15  What if working with a senior member in the te...   \n",
       "\n",
       "                                  X_input.1  \\\n",
       "0                                      YES    \n",
       "1                    Teamwork , Performance   \n",
       "2                                  Confront   \n",
       "3                                      YES    \n",
       "4                    Yes , No , Very Rarely   \n",
       "5        Yes , Always , No , Yes But rarely   \n",
       "6                            Yes usually no   \n",
       "7               No not really , Yes it does   \n",
       "8                        No , Yes sometimes   \n",
       "9         Explain my point , Leave my point   \n",
       "10             No compromise , Yes sometime   \n",
       "11                                Yes , No    \n",
       "12               Confront , Sometimes avoid   \n",
       "13          Stand on my point , will let go   \n",
       "14   Straight solution , Figure out reasons   \n",
       "15  Openly express , Sometimes I do respect   \n",
       "\n",
       "                                             y_output  \n",
       "0   In 100% surveys big teams and small teams deal...  \n",
       "1   60% survey results have shown that teamwork wi...  \n",
       "2   100% survey result have shown that people used...  \n",
       "3   100% survey results of big teams and small tea...  \n",
       "4   40% members thought they are silent member whe...  \n",
       "5   80% survey results have shown that communicati...  \n",
       "6   60% survey results have shown that manager res...  \n",
       "7   30% survey results have shown that no pressure...  \n",
       "8   50% survey results have shown that team size a...  \n",
       "9   80% survey results have shown that team prefer...  \n",
       "10  90% survey results have shown that teams prefe...  \n",
       "11  60% survey results have shown the disagreement...  \n",
       "12  80% survey results have shown that individuals...  \n",
       "13  80% survey have shown that individual stands o...  \n",
       "14  50% survey results have shown that individuals...  \n",
       "15  60% survey results have shown that individuals...  "
      ]
     },
     "execution_count": 4,
     "metadata": {},
     "output_type": "execute_result"
    }
   ],
   "source": [
    "small_data"
   ]
  },
  {
   "cell_type": "code",
   "execution_count": 5,
   "metadata": {},
   "outputs": [],
   "source": [
    "from sklearn.preprocessing import LabelEncoder"
   ]
  },
  {
   "cell_type": "code",
   "execution_count": 6,
   "metadata": {},
   "outputs": [
    {
     "data": {
      "text/plain": [
       "0                                        YES \n",
       "1                      Teamwork , Performance\n",
       "2                                    Confront\n",
       "3                                        YES \n",
       "4                      Yes , No , Very Rarely\n",
       "5          Yes , Always , No , Yes But rarely\n",
       "6                              Yes usually no\n",
       "7                 No not really , Yes it does\n",
       "8                          No , Yes sometimes\n",
       "9           Explain my point , Leave my point\n",
       "10               No compromise , Yes sometime\n",
       "11                                  Yes , No \n",
       "12                 Confront , Sometimes avoid\n",
       "13            Stand on my point , will let go\n",
       "14     Straight solution , Figure out reasons\n",
       "15    Openly express , Sometimes I do respect\n",
       "Name: X_input.1, dtype: object"
      ]
     },
     "execution_count": 6,
     "metadata": {},
     "output_type": "execute_result"
    }
   ],
   "source": [
    "small_data['X_input.1']"
   ]
  },
  {
   "cell_type": "code",
   "execution_count": 7,
   "metadata": {},
   "outputs": [],
   "source": [
    "enc_small_data = LabelEncoder().fit(small_data['X_input.1']).fit_transform(small_data['X_input.1'])"
   ]
  },
  {
   "cell_type": "code",
   "execution_count": 8,
   "metadata": {},
   "outputs": [
    {
     "data": {
      "text/plain": [
       "array([10,  9,  0, 10, 13, 11, 14,  5,  3,  2,  4, 12,  1,  7,  8,  6])"
      ]
     },
     "execution_count": 8,
     "metadata": {},
     "output_type": "execute_result"
    }
   ],
   "source": [
    "enc_small_data"
   ]
  },
  {
   "cell_type": "code",
   "execution_count": 9,
   "metadata": {},
   "outputs": [],
   "source": [
    "small_data['X_input.1'] = enc_small_data"
   ]
  },
  {
   "cell_type": "markdown",
   "metadata": {},
   "source": [
    "small_data"
   ]
  },
  {
   "cell_type": "code",
   "execution_count": 10,
   "metadata": {},
   "outputs": [
    {
     "data": {
      "text/plain": [
       "(76, 56, 82)"
      ]
     },
     "execution_count": 10,
     "metadata": {},
     "output_type": "execute_result"
    }
   ],
   "source": [
    "len(small_data.X_input[0]),len(small_data.X_input[2]),len(small_data.X_input[4])"
   ]
  },
  {
   "cell_type": "code",
   "execution_count": 14,
   "metadata": {},
   "outputs": [],
   "source": [
    "from nltk.stem import PorterStemmer\n",
    "from nltk.tokenize import sent_tokenize,word_tokenize"
   ]
  },
  {
   "cell_type": "code",
   "execution_count": 11,
   "metadata": {},
   "outputs": [
    {
     "data": {
      "text/plain": [
       "0     Do you think conflicts really exist in the tea...\n",
       "1     What impact do you find when you dont have go...\n",
       "2     What if you find out some sort of favourism in...\n",
       "3     Do you think that equally learning facilities ...\n",
       "4     Do you find yourself as a silent member who ne...\n",
       "5     Does communication helps a team to save them f...\n",
       "6     Does your manager/team member do respect your ...\n",
       "7     Do you find any pressure from your team lead...\n",
       "8         Does team size affect the team performance?\n",
       "9     What if you find yourself in an argument, you ...\n",
       "10    Do you prefer to compromise when solving probl...\n",
       "11    If there may not get what you want, but do you...\n",
       "12    when you are the person with the greater autho...\n",
       "13    When you find yourself disagreeing with other ...\n",
       "14    Do you find out the straight solution of any a...\n",
       "15    What if working with a senior member in the te...\n",
       "Name: X_input, dtype: object"
      ]
     },
     "execution_count": 11,
     "metadata": {},
     "output_type": "execute_result"
    }
   ],
   "source": [
    "sentence_input = small_data.X_input\n",
    "sentence_input"
   ]
  },
  {
   "cell_type": "code",
   "execution_count": 12,
   "metadata": {},
   "outputs": [
    {
     "name": "stdout",
     "output_type": "stream",
     "text": [
      "Do you think conflicts really exist in the team working in software industry\n",
      "What impact do you find when you dont have good relations with your any team members?\n",
      "What if you find out some sort of favourism in the team?\n",
      "Do you think that equally learning facilities will help team grow together and conflict-free?\n",
      "Do you find yourself as a silent member who never really talks about the problems?\n",
      "Does communication helps a team to save them from conflicts?\n",
      "Does your manager/team member do respect your sentiments and emotions?\n",
      "Do you find any pressure from your team lead when deadlines are just near? \n",
      "Does team size affect the team performance?\n",
      "What if you find yourself in an argument, you usually say very little and try to leave as soon as possible?\n",
      "Do you prefer to compromise when solving problems and just move on?\n",
      "If there may not get what you want, but do you think that it is a small price to pay for keeping the peace?\n",
      "when you are the person with the greater authority in a conflict situation, you would avoid/ conflict\n",
      "When you find yourself disagreeing with other members of a group on an\n",
      "Important issue, would you stand by your convictions and defend your position?\n",
      "When you find yourself disagreeing with other members of a group on an important issue , would you stand by your convictions and defend your position\n",
      "Do you find out the straight solution of any agreement or just figure out every possible reason which is creating difference?\n",
      "What if working with a senior member in the team which is older in age and experience, do you openly express your opinions or will you keep the respect factor?\n"
     ]
    }
   ],
   "source": [
    "for i in sentence_input:\n",
    "    print(i)"
   ]
  },
  {
   "cell_type": "markdown",
   "metadata": {},
   "source": [
    "### STEMMING"
   ]
  },
  {
   "cell_type": "code",
   "execution_count": 22,
   "metadata": {},
   "outputs": [],
   "source": [
    "tokens = word_tokenize(sentence_input)"
   ]
  },
  {
   "cell_type": "code",
   "execution_count": 23,
   "metadata": {},
   "outputs": [
    {
     "data": {
      "text/plain": [
       "['What',\n",
       " 'if',\n",
       " 'you',\n",
       " 'find',\n",
       " 'out',\n",
       " 'some',\n",
       " 'sort',\n",
       " 'of',\n",
       " 'favourism',\n",
       " 'in',\n",
       " 'the',\n",
       " 'team',\n",
       " '?']"
      ]
     },
     "execution_count": 23,
     "metadata": {},
     "output_type": "execute_result"
    }
   ],
   "source": [
    "tokens"
   ]
  },
  {
   "cell_type": "code",
   "execution_count": 40,
   "metadata": {},
   "outputs": [],
   "source": [
    "from nltk.tokenize.treebank import TreebankWordDetokenizer\n",
    "Final_sentence = []\n",
    "tk = []\n",
    "PS = PorterStemmer()\n",
    "for sent in sentence_input: #getting one sentence at a time\n",
    "    tk = [] #to put the stemmed sentence\n",
    "    tokens = word_tokenize(sent) #tokenizing a single sentence\n",
    "    for word in tokens: #getting words from that tokens\n",
    "        stemmed = PS.stem(word) #stemming word by word\n",
    "        tk.append(stemmed) #putting that stemmed word into a list, to create the whole stemmed sentence\n",
    "    \n",
    "    y = TreebankWordDetokenizer().detokenize(tk) #detokenize the whole list, to create a single proper sentence\n",
    "    \n",
    "    Final_sentence.append(y)"
   ]
  },
  {
   "cell_type": "code",
   "execution_count": 41,
   "metadata": {},
   "outputs": [
    {
     "data": {
      "text/plain": [
       "['Do you think conflict realli exist in the team work in softwar industri',\n",
       " 'what impact do you find when you don\\x92t have good relat with your ani team member?',\n",
       " 'what if you find out some sort of favour in the team?',\n",
       " 'Do you think that equal learn facil will help team grow togeth and conflict-fre?',\n",
       " 'Do you find yourself as a silent member who never realli talk about the problem?',\n",
       " 'doe commun help a team to save them from conflict?',\n",
       " 'doe your manager/team member do respect your sentiment and emot?',\n",
       " 'Do you find ani \\x93pressure\\x94 from your team lead when deadlin are just near?',\n",
       " 'doe \\x93team size\\x94 affect the team perform?',\n",
       " 'what if you find yourself in an argument, you usual say veri littl and tri to leav as soon as possibl?',\n",
       " 'Do you prefer to compromis when solv problem and just move on?',\n",
       " 'If there may not get what you want, but do you think that it is a small price to pay for keep the peac?',\n",
       " 'when you are the person with the greater author in a conflict situat, you would avoid/ conflict',\n",
       " 'when you find yourself disagre with other member of a group on an import issu, would you stand by your convict and defend your posit? when you find yourself disagre with other member of a group on an import issu, would you stand by your convict and defend your posit',\n",
       " 'Do you find out the straight solut of ani agreement or just figur out everi possibl reason which is creat differ?',\n",
       " 'what if work with a senior member in the team which is older in age and experi, do you openli express your opinion or will you keep the respect factor?']"
      ]
     },
     "execution_count": 41,
     "metadata": {},
     "output_type": "execute_result"
    }
   ],
   "source": [
    "Final_sentence"
   ]
  },
  {
   "cell_type": "markdown",
   "metadata": {},
   "source": [
    "##### REMOVING STOP WORDS"
   ]
  },
  {
   "cell_type": "code",
   "execution_count": 42,
   "metadata": {},
   "outputs": [],
   "source": [
    "from nltk.corpus import stopwords"
   ]
  },
  {
   "cell_type": "code",
   "execution_count": 49,
   "metadata": {},
   "outputs": [
    {
     "data": {
      "text/plain": [
       "['i',\n",
       " 'me',\n",
       " 'my',\n",
       " 'myself',\n",
       " 'we',\n",
       " 'our',\n",
       " 'ours',\n",
       " 'ourselves',\n",
       " 'you',\n",
       " \"you're\",\n",
       " \"you've\",\n",
       " \"you'll\",\n",
       " \"you'd\",\n",
       " 'your',\n",
       " 'yours',\n",
       " 'yourself',\n",
       " 'yourselves',\n",
       " 'he',\n",
       " 'him',\n",
       " 'his',\n",
       " 'himself',\n",
       " 'she',\n",
       " \"she's\",\n",
       " 'her',\n",
       " 'hers',\n",
       " 'herself',\n",
       " 'it',\n",
       " \"it's\",\n",
       " 'its',\n",
       " 'itself',\n",
       " 'they',\n",
       " 'them',\n",
       " 'their',\n",
       " 'theirs',\n",
       " 'themselves',\n",
       " 'what',\n",
       " 'which',\n",
       " 'who',\n",
       " 'whom',\n",
       " 'this',\n",
       " 'that',\n",
       " \"that'll\",\n",
       " 'these',\n",
       " 'those',\n",
       " 'am',\n",
       " 'is',\n",
       " 'are',\n",
       " 'was',\n",
       " 'were',\n",
       " 'be',\n",
       " 'been',\n",
       " 'being',\n",
       " 'have',\n",
       " 'has',\n",
       " 'had',\n",
       " 'having',\n",
       " 'do',\n",
       " 'does',\n",
       " 'did',\n",
       " 'doing',\n",
       " 'a',\n",
       " 'an',\n",
       " 'the',\n",
       " 'and',\n",
       " 'but',\n",
       " 'if',\n",
       " 'or',\n",
       " 'because',\n",
       " 'as',\n",
       " 'until',\n",
       " 'while',\n",
       " 'of',\n",
       " 'at',\n",
       " 'by',\n",
       " 'for',\n",
       " 'with',\n",
       " 'about',\n",
       " 'against',\n",
       " 'between',\n",
       " 'into',\n",
       " 'through',\n",
       " 'during',\n",
       " 'before',\n",
       " 'after',\n",
       " 'above',\n",
       " 'below',\n",
       " 'to',\n",
       " 'from',\n",
       " 'up',\n",
       " 'down',\n",
       " 'in',\n",
       " 'out',\n",
       " 'on',\n",
       " 'off',\n",
       " 'over',\n",
       " 'under',\n",
       " 'again',\n",
       " 'further',\n",
       " 'then',\n",
       " 'once',\n",
       " 'here',\n",
       " 'there',\n",
       " 'when',\n",
       " 'where',\n",
       " 'why',\n",
       " 'how',\n",
       " 'all',\n",
       " 'any',\n",
       " 'both',\n",
       " 'each',\n",
       " 'few',\n",
       " 'more',\n",
       " 'most',\n",
       " 'other',\n",
       " 'some',\n",
       " 'such',\n",
       " 'no',\n",
       " 'nor',\n",
       " 'not',\n",
       " 'only',\n",
       " 'own',\n",
       " 'same',\n",
       " 'so',\n",
       " 'than',\n",
       " 'too',\n",
       " 'very',\n",
       " 's',\n",
       " 't',\n",
       " 'can',\n",
       " 'will',\n",
       " 'just',\n",
       " 'don',\n",
       " \"don't\",\n",
       " 'should',\n",
       " \"should've\",\n",
       " 'now',\n",
       " 'd',\n",
       " 'll',\n",
       " 'm',\n",
       " 'o',\n",
       " 're',\n",
       " 've',\n",
       " 'y',\n",
       " 'ain',\n",
       " 'aren',\n",
       " \"aren't\",\n",
       " 'couldn',\n",
       " \"couldn't\",\n",
       " 'didn',\n",
       " \"didn't\",\n",
       " 'doesn',\n",
       " \"doesn't\",\n",
       " 'hadn',\n",
       " \"hadn't\",\n",
       " 'hasn',\n",
       " \"hasn't\",\n",
       " 'haven',\n",
       " \"haven't\",\n",
       " 'isn',\n",
       " \"isn't\",\n",
       " 'ma',\n",
       " 'mightn',\n",
       " \"mightn't\",\n",
       " 'mustn',\n",
       " \"mustn't\",\n",
       " 'needn',\n",
       " \"needn't\",\n",
       " 'shan',\n",
       " \"shan't\",\n",
       " 'shouldn',\n",
       " \"shouldn't\",\n",
       " 'wasn',\n",
       " \"wasn't\",\n",
       " 'weren',\n",
       " \"weren't\",\n",
       " 'won',\n",
       " \"won't\",\n",
       " 'wouldn',\n",
       " \"wouldn't\"]"
      ]
     },
     "execution_count": 49,
     "metadata": {},
     "output_type": "execute_result"
    }
   ],
   "source": [
    "stopwords.words('english') #getting stopwords of English"
   ]
  },
  {
   "cell_type": "code",
   "execution_count": 51,
   "metadata": {},
   "outputs": [
    {
     "name": "stdout",
     "output_type": "stream",
     "text": [
      "Total Stop words in english are ====> 179\n"
     ]
    }
   ],
   "source": [
    "lens = len(stopwords.words('english')) \n",
    "print(\"Total Stop words in english are ====> {}\".format(lens))"
   ]
  },
  {
   "cell_type": "code",
   "execution_count": 54,
   "metadata": {},
   "outputs": [
    {
     "name": "stdout",
     "output_type": "stream",
     "text": [
      "[]\n"
     ]
    }
   ],
   "source": [
    "filtered_sentence = []\n",
    "for sent in Final_sentence:\n",
    "    tk = [] #to put the stemmed sentence\n",
    "    words_tokens = word_tokenize(sent)\n",
    "    filtered_sentence = [word for word in words_tokens if word not in stop_]\n",
    "print(filtered_sentence)"
   ]
  },
  {
   "cell_type": "code",
   "execution_count": null,
   "metadata": {},
   "outputs": [],
   "source": []
  }
 ],
 "metadata": {
  "kernelspec": {
   "display_name": "Python 3",
   "language": "python",
   "name": "python3"
  },
  "language_info": {
   "codemirror_mode": {
    "name": "ipython",
    "version": 3
   },
   "file_extension": ".py",
   "mimetype": "text/x-python",
   "name": "python",
   "nbconvert_exporter": "python",
   "pygments_lexer": "ipython3",
   "version": "3.7.5"
  }
 },
 "nbformat": 4,
 "nbformat_minor": 2
}
